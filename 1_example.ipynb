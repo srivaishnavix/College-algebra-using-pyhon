{
  "nbformat": 4,
  "nbformat_minor": 0,
  "metadata": {
    "colab": {
      "provenance": [],
      "authorship_tag": "ABX9TyNPJSvI+DMxExrnGAbd+gUZ",
      "include_colab_link": true
    },
    "kernelspec": {
      "name": "python3",
      "display_name": "Python 3"
    },
    "language_info": {
      "name": "python"
    }
  },
  "cells": [
    {
      "cell_type": "markdown",
      "metadata": {
        "id": "view-in-github",
        "colab_type": "text"
      },
      "source": [
        "<a href=\"https://colab.research.google.com/github/srivaishnavix/College-algebra-using-python/blob/master/1_example.ipynb\" target=\"_parent\"><img src=\"https://colab.research.google.com/assets/colab-badge.svg\" alt=\"Open In Colab\"/></a>"
      ]
    },
    {
      "cell_type": "code",
      "execution_count": null,
      "metadata": {
        "colab": {
          "base_uri": "https://localhost:8080/"
        },
        "id": "0idEPdU5DKFP",
        "outputId": "9c955c9e-f774-4eec-c2b9-6a140a5988ec"
      },
      "outputs": [
        {
          "output_type": "stream",
          "name": "stdout",
          "text": [
            "2.0\n"
          ]
        }
      ],
      "source": [
        "print(4**(1/2))"
      ]
    },
    {
      "cell_type": "code",
      "source": [],
      "metadata": {
        "id": "aL3XwE3DDsHM"
      },
      "execution_count": null,
      "outputs": []
    },
    {
      "cell_type": "markdown",
      "source": [
        "This is a text, also don't forget to save the colab before closing, cause google doesn't do it very often"
      ],
      "metadata": {
        "id": "80nfk9USz-Br"
      }
    },
    {
      "cell_type": "markdown",
      "source": [
        "You can turn a text into a section by adding # in fornt of it\n"
      ],
      "metadata": {
        "id": "ERm2JlYM0Anj"
      }
    },
    {
      "cell_type": "markdown",
      "source": [
        "#Like here"
      ],
      "metadata": {
        "id": "Ynd5OzYx0Fhg"
      }
    },
    {
      "cell_type": "markdown",
      "source": [
        "# New section"
      ],
      "metadata": {
        "id": "exGW45LS0MAd"
      }
    }
  ]
}